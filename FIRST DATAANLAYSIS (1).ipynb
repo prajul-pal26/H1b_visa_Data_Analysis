{
 "cells": [
  {
   "cell_type": "markdown",
   "metadata": {},
   "source": [
    "# H1B VISA DATA ANALYSIS"
   ]
  },
  {
   "cell_type": "markdown",
   "metadata": {},
   "source": [
    "# importing libraries"
   ]
  },
  {
   "cell_type": "code",
   "execution_count": null,
   "metadata": {},
   "outputs": [],
   "source": [
    "import pandas as pd\n",
    "import matplotlib.pylab as plt\n",
    "import seaborn as sns"
   ]
  },
  {
   "cell_type": "code",
   "execution_count": null,
   "metadata": {},
   "outputs": [
    {
     "name": "stderr",
     "output_type": "stream",
     "text": [
      "C:\\Users\\Swift3\\AppData\\Local\\Temp\\ipykernel_28188\\116435914.py:10: DeprecationWarning: load_dataset is deprecated and will be removed in a future version.\n",
      "  df = kagglehub.load_dataset(\n"
     ]
    },
    {
     "ename": "ValueError",
     "evalue": "Unsupported file extension: ''. Supported file extensions are: .csv, .tsv, .json, .jsonl, .xml, .parquet, .feather, .sqlite, .sqlite3, .db, .db3, .s3db, .dl3, .xls, .xlsx, .xlsm, .xlsb, .odf, .ods, .odt",
     "output_type": "error",
     "traceback": [
      "\u001b[31m---------------------------------------------------------------------------\u001b[39m",
      "\u001b[31mValueError\u001b[39m                                Traceback (most recent call last)",
      "\u001b[36mCell\u001b[39m\u001b[36m \u001b[39m\u001b[32mIn[4]\u001b[39m\u001b[32m, line 10\u001b[39m\n\u001b[32m      7\u001b[39m file_path = \u001b[33m\"\u001b[39m\u001b[33m/\u001b[39m\u001b[33m\"\u001b[39m\n\u001b[32m      9\u001b[39m \u001b[38;5;66;03m# Load the latest version\u001b[39;00m\n\u001b[32m---> \u001b[39m\u001b[32m10\u001b[39m df = \u001b[43mkagglehub\u001b[49m\u001b[43m.\u001b[49m\u001b[43mload_dataset\u001b[49m\u001b[43m(\u001b[49m\n\u001b[32m     11\u001b[39m \u001b[43m  \u001b[49m\u001b[43mKaggleDatasetAdapter\u001b[49m\u001b[43m.\u001b[49m\u001b[43mPANDAS\u001b[49m\u001b[43m,\u001b[49m\n\u001b[32m     12\u001b[39m \u001b[43m  \u001b[49m\u001b[33;43m\"\u001b[39;49m\u001b[33;43mnsharan/h-1b-visa\u001b[39;49m\u001b[33;43m\"\u001b[39;49m\u001b[43m,\u001b[49m\n\u001b[32m     13\u001b[39m \u001b[43m  \u001b[49m\u001b[43mfile_path\u001b[49m\u001b[43m,\u001b[49m\n\u001b[32m     14\u001b[39m \u001b[43m  \u001b[49m\u001b[38;5;66;43;03m# Provide any additional arguments like \u001b[39;49;00m\n\u001b[32m     15\u001b[39m \u001b[43m  \u001b[49m\u001b[38;5;66;43;03m# sql_query or pandas_kwargs. See the \u001b[39;49;00m\n\u001b[32m     16\u001b[39m \u001b[43m  \u001b[49m\u001b[38;5;66;43;03m# documenation for more information:\u001b[39;49;00m\n\u001b[32m     17\u001b[39m \u001b[43m  \u001b[49m\u001b[38;5;66;43;03m# https://github.com/Kaggle/kagglehub/blob/main/README.md#kaggledatasetadapterpandas\u001b[39;49;00m\n\u001b[32m     18\u001b[39m \u001b[43m)\u001b[49m\n\u001b[32m     20\u001b[39m \u001b[38;5;28mprint\u001b[39m(\u001b[33m\"\u001b[39m\u001b[33mFirst 5 records:\u001b[39m\u001b[33m\"\u001b[39m, df.head())\n",
      "\u001b[36mFile \u001b[39m\u001b[32md:\\vs_code\\H1B-Analysis\\visa_env\\Lib\\site-packages\\kagglehub\\datasets.py:176\u001b[39m, in \u001b[36mload_dataset\u001b[39m\u001b[34m(adapter, handle, path, pandas_kwargs, sql_query, hf_kwargs)\u001b[39m\n\u001b[32m    163\u001b[39m \u001b[38;5;28;01mdef\u001b[39;00m\u001b[38;5;250m \u001b[39m\u001b[34mload_dataset\u001b[39m(\n\u001b[32m    164\u001b[39m     adapter: KaggleDatasetAdapter,\n\u001b[32m    165\u001b[39m     \u001b[38;5;66;03m# In the form of {owner_slug}/{dataset_slug} or {owner_slug}/{dataset_slug}/versions/{version_number}\u001b[39;00m\n\u001b[32m   (...)\u001b[39m\u001b[32m    171\u001b[39m     hf_kwargs: Any = \u001b[38;5;28;01mNone\u001b[39;00m,  \u001b[38;5;66;03m# noqa: ANN401\u001b[39;00m\n\u001b[32m    172\u001b[39m ) -> Any:  \u001b[38;5;66;03m# noqa: ANN401\u001b[39;00m\n\u001b[32m    173\u001b[39m     warnings.warn(\n\u001b[32m    174\u001b[39m         \u001b[33m\"\u001b[39m\u001b[33mload_dataset is deprecated and will be removed in a future version.\u001b[39m\u001b[33m\"\u001b[39m, \u001b[38;5;167;01mDeprecationWarning\u001b[39;00m, stacklevel=\u001b[32m2\u001b[39m\n\u001b[32m    175\u001b[39m     )\n\u001b[32m--> \u001b[39m\u001b[32m176\u001b[39m     \u001b[38;5;28;01mreturn\u001b[39;00m \u001b[43mdataset_load\u001b[49m\u001b[43m(\u001b[49m\u001b[43madapter\u001b[49m\u001b[43m,\u001b[49m\u001b[43m \u001b[49m\u001b[43mhandle\u001b[49m\u001b[43m,\u001b[49m\u001b[43m \u001b[49m\u001b[43mpath\u001b[49m\u001b[43m,\u001b[49m\u001b[43m \u001b[49m\u001b[43mpandas_kwargs\u001b[49m\u001b[43m=\u001b[49m\u001b[43mpandas_kwargs\u001b[49m\u001b[43m,\u001b[49m\u001b[43m \u001b[49m\u001b[43msql_query\u001b[49m\u001b[43m=\u001b[49m\u001b[43msql_query\u001b[49m\u001b[43m,\u001b[49m\u001b[43m \u001b[49m\u001b[43mhf_kwargs\u001b[49m\u001b[43m=\u001b[49m\u001b[43mhf_kwargs\u001b[49m\u001b[43m)\u001b[49m\n",
      "\u001b[36mFile \u001b[39m\u001b[32md:\\vs_code\\H1B-Analysis\\visa_env\\Lib\\site-packages\\kagglehub\\datasets.py:141\u001b[39m, in \u001b[36mdataset_load\u001b[39m\u001b[34m(adapter, handle, path, pandas_kwargs, sql_query, hf_kwargs, polars_frame_type, polars_kwargs)\u001b[39m\n\u001b[32m    138\u001b[39m \u001b[38;5;28;01melif\u001b[39;00m adapter \u001b[38;5;129;01mis\u001b[39;00m KaggleDatasetAdapter.PANDAS:\n\u001b[32m    139\u001b[39m     \u001b[38;5;28;01mimport\u001b[39;00m\u001b[38;5;250m \u001b[39m\u001b[34;01mkagglehub\u001b[39;00m\u001b[34;01m.\u001b[39;00m\u001b[34;01mpandas_datasets\u001b[39;00m\n\u001b[32m--> \u001b[39m\u001b[32m141\u001b[39m     \u001b[38;5;28;01mreturn\u001b[39;00m \u001b[43mkagglehub\u001b[49m\u001b[43m.\u001b[49m\u001b[43mpandas_datasets\u001b[49m\u001b[43m.\u001b[49m\u001b[43mload_pandas_dataset\u001b[49m\u001b[43m(\u001b[49m\n\u001b[32m    142\u001b[39m \u001b[43m        \u001b[49m\u001b[43mhandle\u001b[49m\u001b[43m,\u001b[49m\u001b[43m \u001b[49m\u001b[43mpath\u001b[49m\u001b[43m,\u001b[49m\u001b[43m \u001b[49m\u001b[43mpandas_kwargs\u001b[49m\u001b[43m=\u001b[49m\u001b[43mpandas_kwargs\u001b[49m\u001b[43m,\u001b[49m\u001b[43m \u001b[49m\u001b[43msql_query\u001b[49m\u001b[43m=\u001b[49m\u001b[43msql_query\u001b[49m\n\u001b[32m    143\u001b[39m \u001b[43m    \u001b[49m\u001b[43m)\u001b[49m\n\u001b[32m    144\u001b[39m \u001b[38;5;28;01melif\u001b[39;00m adapter \u001b[38;5;129;01mis\u001b[39;00m KaggleDatasetAdapter.POLARS:\n\u001b[32m    145\u001b[39m     \u001b[38;5;28;01mimport\u001b[39;00m\u001b[38;5;250m \u001b[39m\u001b[34;01mkagglehub\u001b[39;00m\u001b[34;01m.\u001b[39;00m\u001b[34;01mpolars_datasets\u001b[39;00m\n",
      "\u001b[36mFile \u001b[39m\u001b[32md:\\vs_code\\H1B-Analysis\\visa_env\\Lib\\site-packages\\kagglehub\\pandas_datasets.py:86\u001b[39m, in \u001b[36mload_pandas_dataset\u001b[39m\u001b[34m(handle, path, pandas_kwargs, sql_query)\u001b[39m\n\u001b[32m     84\u001b[39m pandas_kwargs = {} \u001b[38;5;28;01mif\u001b[39;00m pandas_kwargs \u001b[38;5;129;01mis\u001b[39;00m \u001b[38;5;28;01mNone\u001b[39;00m \u001b[38;5;28;01melse\u001b[39;00m pandas_kwargs\n\u001b[32m     85\u001b[39m file_extension = os.path.splitext(path)[\u001b[32m1\u001b[39m]\n\u001b[32m---> \u001b[39m\u001b[32m86\u001b[39m read_function = \u001b[43m_validate_read_function\u001b[49m\u001b[43m(\u001b[49m\u001b[43mfile_extension\u001b[49m\u001b[43m,\u001b[49m\u001b[43m \u001b[49m\u001b[43msql_query\u001b[49m\u001b[43m)\u001b[49m\n\u001b[32m     88\u001b[39m \u001b[38;5;66;03m# Now that everything has been validated, we can start downloading and processing\u001b[39;00m\n\u001b[32m     89\u001b[39m filepath = dataset_download(handle, path)\n",
      "\u001b[36mFile \u001b[39m\u001b[32md:\\vs_code\\H1B-Analysis\\visa_env\\Lib\\site-packages\\kagglehub\\pandas_datasets.py:108\u001b[39m, in \u001b[36m_validate_read_function\u001b[39m\u001b[34m(file_extension, sql_query)\u001b[39m\n\u001b[32m    103\u001b[39m \u001b[38;5;28;01mif\u001b[39;00m file_extension \u001b[38;5;129;01mnot\u001b[39;00m \u001b[38;5;129;01min\u001b[39;00m SUPPORTED_READ_FUNCTIONS_BY_EXTENSION:\n\u001b[32m    104\u001b[39m     extension_error_message = (\n\u001b[32m    105\u001b[39m         \u001b[33mf\u001b[39m\u001b[33m\"\u001b[39m\u001b[33mUnsupported file extension: \u001b[39m\u001b[33m'\u001b[39m\u001b[38;5;132;01m{\u001b[39;00mfile_extension\u001b[38;5;132;01m}\u001b[39;00m\u001b[33m'\u001b[39m\u001b[33m. \u001b[39m\u001b[33m\"\u001b[39m\n\u001b[32m    106\u001b[39m         \u001b[33mf\u001b[39m\u001b[33m\"\u001b[39m\u001b[33mSupported file extensions are: \u001b[39m\u001b[38;5;132;01m{\u001b[39;00m\u001b[33m'\u001b[39m\u001b[33m, \u001b[39m\u001b[33m'\u001b[39m.join(SUPPORTED_READ_FUNCTIONS_BY_EXTENSION.keys())\u001b[38;5;132;01m}\u001b[39;00m\u001b[33m\"\u001b[39m\n\u001b[32m    107\u001b[39m     )\n\u001b[32m--> \u001b[39m\u001b[32m108\u001b[39m     \u001b[38;5;28;01mraise\u001b[39;00m \u001b[38;5;167;01mValueError\u001b[39;00m(extension_error_message) \u001b[38;5;28;01mfrom\u001b[39;00m\u001b[38;5;250m \u001b[39m\u001b[38;5;28;01mNone\u001b[39;00m\n\u001b[32m    110\u001b[39m read_function = SUPPORTED_READ_FUNCTIONS_BY_EXTENSION[file_extension]\n\u001b[32m    111\u001b[39m \u001b[38;5;28;01mif\u001b[39;00m read_function \u001b[38;5;129;01mis\u001b[39;00m wrapped_read_sql_query \u001b[38;5;129;01mand\u001b[39;00m \u001b[38;5;129;01mnot\u001b[39;00m sql_query:\n",
      "\u001b[31mValueError\u001b[39m: Unsupported file extension: ''. Supported file extensions are: .csv, .tsv, .json, .jsonl, .xml, .parquet, .feather, .sqlite, .sqlite3, .db, .db3, .s3db, .dl3, .xls, .xlsx, .xlsm, .xlsb, .odf, .ods, .odt"
     ]
    }
   ],
   "source": [
    "# Install dependencies as needed:\n",
    "# pip install kagglehub[pandas-datasets]\n",
    "import kagglehub\n",
    "from kagglehub import KaggleDatasetAdapter\n",
    "\n",
    "# Set the path to the file you'd like to load\n",
    "file_path = \".\"\n",
    "\n",
    "# Load the latest version\n",
    "df = kagglehub.load_dataset(\n",
    "  KaggleDatasetAdapter.PANDAS,\n",
    "  \"nsharan/h-1b-visa\",\n",
    "  file_path,\n",
    "  # Provide any additional arguments like \n",
    "  # sql_query or pandas_kwargs. See the \n",
    "  # documenation for more information:\n",
    "  # https://github.com/Kaggle/kagglehub/blob/main/README.md#kaggledatasetadapterpandas\n",
    ")\n",
    "\n",
    "print(\"First 5 records:\", df.head())"
   ]
  },
  {
   "cell_type": "markdown",
   "metadata": {},
   "source": [
    "import numpy as np\n",
    "import matplotlib.pyplot as plt\n",
    "import seaborn as sns\n"
   ]
  },
  {
   "cell_type": "markdown",
   "metadata": {},
   "source": [
    "Reading  csv file"
   ]
  },
  {
   "cell_type": "code",
   "execution_count": null,
   "metadata": {},
   "outputs": [
    {
     "data": {
      "text/html": [
       "<div>\n",
       "<style scoped>\n",
       "    .dataframe tbody tr th:only-of-type {\n",
       "        vertical-align: middle;\n",
       "    }\n",
       "\n",
       "    .dataframe tbody tr th {\n",
       "        vertical-align: top;\n",
       "    }\n",
       "\n",
       "    .dataframe thead th {\n",
       "        text-align: right;\n",
       "    }\n",
       "</style>\n",
       "<table border=\"1\" class=\"dataframe\">\n",
       "  <thead>\n",
       "    <tr style=\"text-align: right;\">\n",
       "      <th></th>\n",
       "      <th>Unnamed: 0</th>\n",
       "      <th>CASE_STATUS</th>\n",
       "      <th>EMPLOYER_NAME</th>\n",
       "      <th>SOC_NAME</th>\n",
       "      <th>JOB_TITLE</th>\n",
       "      <th>FULL_TIME_POSITION</th>\n",
       "      <th>PREVAILING_WAGE</th>\n",
       "      <th>YEAR</th>\n",
       "      <th>WORKSITE</th>\n",
       "      <th>lon</th>\n",
       "      <th>lat</th>\n",
       "    </tr>\n",
       "  </thead>\n",
       "  <tbody>\n",
       "    <tr>\n",
       "      <th>0</th>\n",
       "      <td>1</td>\n",
       "      <td>CERTIFIED-WITHDRAWN</td>\n",
       "      <td>UNIVERSITY OF MICHIGAN</td>\n",
       "      <td>BIOCHEMISTS AND BIOPHYSICISTS</td>\n",
       "      <td>POSTDOCTORAL RESEARCH FELLOW</td>\n",
       "      <td>N</td>\n",
       "      <td>36067.0</td>\n",
       "      <td>2016.0</td>\n",
       "      <td>ANN ARBOR, MICHIGAN</td>\n",
       "      <td>-83.743038</td>\n",
       "      <td>42.280826</td>\n",
       "    </tr>\n",
       "    <tr>\n",
       "      <th>1</th>\n",
       "      <td>2</td>\n",
       "      <td>CERTIFIED-WITHDRAWN</td>\n",
       "      <td>GOODMAN NETWORKS, INC.</td>\n",
       "      <td>CHIEF EXECUTIVES</td>\n",
       "      <td>CHIEF OPERATING OFFICER</td>\n",
       "      <td>Y</td>\n",
       "      <td>242674.0</td>\n",
       "      <td>2016.0</td>\n",
       "      <td>PLANO, TEXAS</td>\n",
       "      <td>-96.698886</td>\n",
       "      <td>33.019843</td>\n",
       "    </tr>\n",
       "    <tr>\n",
       "      <th>2</th>\n",
       "      <td>3</td>\n",
       "      <td>CERTIFIED-WITHDRAWN</td>\n",
       "      <td>PORTS AMERICA GROUP, INC.</td>\n",
       "      <td>CHIEF EXECUTIVES</td>\n",
       "      <td>CHIEF PROCESS OFFICER</td>\n",
       "      <td>Y</td>\n",
       "      <td>193066.0</td>\n",
       "      <td>2016.0</td>\n",
       "      <td>JERSEY CITY, NEW JERSEY</td>\n",
       "      <td>-74.077642</td>\n",
       "      <td>40.728158</td>\n",
       "    </tr>\n",
       "    <tr>\n",
       "      <th>3</th>\n",
       "      <td>4</td>\n",
       "      <td>CERTIFIED-WITHDRAWN</td>\n",
       "      <td>GATES CORPORATION, A WHOLLY-OWNED SUBSIDIARY O...</td>\n",
       "      <td>CHIEF EXECUTIVES</td>\n",
       "      <td>REGIONAL PRESIDEN, AMERICAS</td>\n",
       "      <td>Y</td>\n",
       "      <td>220314.0</td>\n",
       "      <td>2016.0</td>\n",
       "      <td>DENVER, COLORADO</td>\n",
       "      <td>-104.990251</td>\n",
       "      <td>39.739236</td>\n",
       "    </tr>\n",
       "    <tr>\n",
       "      <th>4</th>\n",
       "      <td>5</td>\n",
       "      <td>WITHDRAWN</td>\n",
       "      <td>PEABODY INVESTMENTS CORP.</td>\n",
       "      <td>CHIEF EXECUTIVES</td>\n",
       "      <td>PRESIDENT MONGOLIA AND INDIA</td>\n",
       "      <td>Y</td>\n",
       "      <td>157518.4</td>\n",
       "      <td>2016.0</td>\n",
       "      <td>ST. LOUIS, MISSOURI</td>\n",
       "      <td>-90.199404</td>\n",
       "      <td>38.627003</td>\n",
       "    </tr>\n",
       "  </tbody>\n",
       "</table>\n",
       "</div>"
      ],
      "text/plain": [
       "   Unnamed: 0          CASE_STATUS  \\\n",
       "0           1  CERTIFIED-WITHDRAWN   \n",
       "1           2  CERTIFIED-WITHDRAWN   \n",
       "2           3  CERTIFIED-WITHDRAWN   \n",
       "3           4  CERTIFIED-WITHDRAWN   \n",
       "4           5            WITHDRAWN   \n",
       "\n",
       "                                       EMPLOYER_NAME  \\\n",
       "0                             UNIVERSITY OF MICHIGAN   \n",
       "1                             GOODMAN NETWORKS, INC.   \n",
       "2                          PORTS AMERICA GROUP, INC.   \n",
       "3  GATES CORPORATION, A WHOLLY-OWNED SUBSIDIARY O...   \n",
       "4                          PEABODY INVESTMENTS CORP.   \n",
       "\n",
       "                        SOC_NAME                     JOB_TITLE  \\\n",
       "0  BIOCHEMISTS AND BIOPHYSICISTS  POSTDOCTORAL RESEARCH FELLOW   \n",
       "1               CHIEF EXECUTIVES       CHIEF OPERATING OFFICER   \n",
       "2               CHIEF EXECUTIVES         CHIEF PROCESS OFFICER   \n",
       "3               CHIEF EXECUTIVES   REGIONAL PRESIDEN, AMERICAS   \n",
       "4               CHIEF EXECUTIVES  PRESIDENT MONGOLIA AND INDIA   \n",
       "\n",
       "  FULL_TIME_POSITION  PREVAILING_WAGE    YEAR                 WORKSITE  \\\n",
       "0                  N          36067.0  2016.0      ANN ARBOR, MICHIGAN   \n",
       "1                  Y         242674.0  2016.0             PLANO, TEXAS   \n",
       "2                  Y         193066.0  2016.0  JERSEY CITY, NEW JERSEY   \n",
       "3                  Y         220314.0  2016.0         DENVER, COLORADO   \n",
       "4                  Y         157518.4  2016.0      ST. LOUIS, MISSOURI   \n",
       "\n",
       "          lon        lat  \n",
       "0  -83.743038  42.280826  \n",
       "1  -96.698886  33.019843  \n",
       "2  -74.077642  40.728158  \n",
       "3 -104.990251  39.739236  \n",
       "4  -90.199404  38.627003  "
      ]
     },
     "execution_count": 5,
     "metadata": {},
     "output_type": "execute_result"
    }
   ],
   "source": [
    "f = pd.read_csv(\"h1b_kaggle.csv\")\n",
    "f.head()\n"
   ]
  },
  {
   "cell_type": "markdown",
   "metadata": {},
   "source": [
    "deleting unnamed column"
   ]
  },
  {
   "cell_type": "code",
   "execution_count": null,
   "metadata": {},
   "outputs": [
    {
     "data": {
      "text/plain": [
       "3002458"
      ]
     },
     "execution_count": 6,
     "metadata": {},
     "output_type": "execute_result"
    }
   ],
   "source": [
    "del f['Unnamed: 0']\n",
    "len(f)"
   ]
  },
  {
   "cell_type": "code",
   "execution_count": null,
   "metadata": {},
   "outputs": [
    {
     "name": "stdout",
     "output_type": "stream",
     "text": [
      "2877765\n"
     ]
    }
   ],
   "source": [
    "f = f.dropna()\n",
    "f.reset_index()\n",
    "lng = len(f)\n",
    "print(lng)"
   ]
  },
  {
   "cell_type": "code",
   "execution_count": null,
   "metadata": {},
   "outputs": [
    {
     "data": {
      "text/html": [
       "<div>\n",
       "<style scoped>\n",
       "    .dataframe tbody tr th:only-of-type {\n",
       "        vertical-align: middle;\n",
       "    }\n",
       "\n",
       "    .dataframe tbody tr th {\n",
       "        vertical-align: top;\n",
       "    }\n",
       "\n",
       "    .dataframe thead th {\n",
       "        text-align: right;\n",
       "    }\n",
       "</style>\n",
       "<table border=\"1\" class=\"dataframe\">\n",
       "  <thead>\n",
       "    <tr style=\"text-align: right;\">\n",
       "      <th></th>\n",
       "      <th>CASE_STATUS</th>\n",
       "      <th>EMPLOYER_NAME</th>\n",
       "      <th>SOC_NAME</th>\n",
       "      <th>JOB_TITLE</th>\n",
       "      <th>FULL_TIME_POSITION</th>\n",
       "      <th>PREVAILING_WAGE</th>\n",
       "      <th>YEAR</th>\n",
       "      <th>WORKSITE</th>\n",
       "      <th>lon</th>\n",
       "      <th>lat</th>\n",
       "    </tr>\n",
       "  </thead>\n",
       "  <tbody>\n",
       "    <tr>\n",
       "      <th>0</th>\n",
       "      <td>CERTIFIED-WITHDRAWN</td>\n",
       "      <td>UNIVERSITY OF MICHIGAN</td>\n",
       "      <td>BIOCHEMISTS AND BIOPHYSICISTS</td>\n",
       "      <td>POSTDOCTORAL RESEARCH FELLOW</td>\n",
       "      <td>N</td>\n",
       "      <td>36067.0</td>\n",
       "      <td>2016.0</td>\n",
       "      <td>ANN ARBOR, MICHIGAN</td>\n",
       "      <td>-83.743038</td>\n",
       "      <td>42.280826</td>\n",
       "    </tr>\n",
       "    <tr>\n",
       "      <th>1</th>\n",
       "      <td>CERTIFIED-WITHDRAWN</td>\n",
       "      <td>GOODMAN NETWORKS, INC.</td>\n",
       "      <td>CHIEF EXECUTIVES</td>\n",
       "      <td>CHIEF OPERATING OFFICER</td>\n",
       "      <td>Y</td>\n",
       "      <td>242674.0</td>\n",
       "      <td>2016.0</td>\n",
       "      <td>PLANO, TEXAS</td>\n",
       "      <td>-96.698886</td>\n",
       "      <td>33.019843</td>\n",
       "    </tr>\n",
       "    <tr>\n",
       "      <th>2</th>\n",
       "      <td>CERTIFIED-WITHDRAWN</td>\n",
       "      <td>PORTS AMERICA GROUP, INC.</td>\n",
       "      <td>CHIEF EXECUTIVES</td>\n",
       "      <td>CHIEF PROCESS OFFICER</td>\n",
       "      <td>Y</td>\n",
       "      <td>193066.0</td>\n",
       "      <td>2016.0</td>\n",
       "      <td>JERSEY CITY, NEW JERSEY</td>\n",
       "      <td>-74.077642</td>\n",
       "      <td>40.728158</td>\n",
       "    </tr>\n",
       "    <tr>\n",
       "      <th>3</th>\n",
       "      <td>CERTIFIED-WITHDRAWN</td>\n",
       "      <td>GATES CORPORATION, A WHOLLY-OWNED SUBSIDIARY O...</td>\n",
       "      <td>CHIEF EXECUTIVES</td>\n",
       "      <td>REGIONAL PRESIDEN, AMERICAS</td>\n",
       "      <td>Y</td>\n",
       "      <td>220314.0</td>\n",
       "      <td>2016.0</td>\n",
       "      <td>DENVER, COLORADO</td>\n",
       "      <td>-104.990251</td>\n",
       "      <td>39.739236</td>\n",
       "    </tr>\n",
       "    <tr>\n",
       "      <th>4</th>\n",
       "      <td>WITHDRAWN</td>\n",
       "      <td>PEABODY INVESTMENTS CORP.</td>\n",
       "      <td>CHIEF EXECUTIVES</td>\n",
       "      <td>PRESIDENT MONGOLIA AND INDIA</td>\n",
       "      <td>Y</td>\n",
       "      <td>157518.4</td>\n",
       "      <td>2016.0</td>\n",
       "      <td>ST. LOUIS, MISSOURI</td>\n",
       "      <td>-90.199404</td>\n",
       "      <td>38.627003</td>\n",
       "    </tr>\n",
       "  </tbody>\n",
       "</table>\n",
       "</div>"
      ],
      "text/plain": [
       "           CASE_STATUS                                      EMPLOYER_NAME  \\\n",
       "0  CERTIFIED-WITHDRAWN                             UNIVERSITY OF MICHIGAN   \n",
       "1  CERTIFIED-WITHDRAWN                             GOODMAN NETWORKS, INC.   \n",
       "2  CERTIFIED-WITHDRAWN                          PORTS AMERICA GROUP, INC.   \n",
       "3  CERTIFIED-WITHDRAWN  GATES CORPORATION, A WHOLLY-OWNED SUBSIDIARY O...   \n",
       "4            WITHDRAWN                          PEABODY INVESTMENTS CORP.   \n",
       "\n",
       "                        SOC_NAME                     JOB_TITLE  \\\n",
       "0  BIOCHEMISTS AND BIOPHYSICISTS  POSTDOCTORAL RESEARCH FELLOW   \n",
       "1               CHIEF EXECUTIVES       CHIEF OPERATING OFFICER   \n",
       "2               CHIEF EXECUTIVES         CHIEF PROCESS OFFICER   \n",
       "3               CHIEF EXECUTIVES   REGIONAL PRESIDEN, AMERICAS   \n",
       "4               CHIEF EXECUTIVES  PRESIDENT MONGOLIA AND INDIA   \n",
       "\n",
       "  FULL_TIME_POSITION  PREVAILING_WAGE    YEAR                 WORKSITE  \\\n",
       "0                  N          36067.0  2016.0      ANN ARBOR, MICHIGAN   \n",
       "1                  Y         242674.0  2016.0             PLANO, TEXAS   \n",
       "2                  Y         193066.0  2016.0  JERSEY CITY, NEW JERSEY   \n",
       "3                  Y         220314.0  2016.0         DENVER, COLORADO   \n",
       "4                  Y         157518.4  2016.0      ST. LOUIS, MISSOURI   \n",
       "\n",
       "          lon        lat  \n",
       "0  -83.743038  42.280826  \n",
       "1  -96.698886  33.019843  \n",
       "2  -74.077642  40.728158  \n",
       "3 -104.990251  39.739236  \n",
       "4  -90.199404  38.627003  "
      ]
     },
     "execution_count": 8,
     "metadata": {},
     "output_type": "execute_result"
    }
   ],
   "source": [
    "f.head()\n"
   ]
  },
  {
   "cell_type": "markdown",
   "metadata": {},
   "source": [
    "TOP EMPLOYERS"
   ]
  },
  {
   "cell_type": "code",
   "execution_count": null,
   "metadata": {},
   "outputs": [
    {
     "data": {
      "text/plain": [
       "EMPLOYER_NAME\n",
       "INFOSYS LIMITED                                    130257\n",
       "TATA CONSULTANCY SERVICES LIMITED                   64273\n",
       "WIPRO LIMITED                                       45673\n",
       "DELOITTE CONSULTING LLP                             35999\n",
       "IBM INDIA PRIVATE LIMITED                           33585\n",
       "ACCENTURE LLP                                       33226\n",
       "MICROSOFT CORPORATION                               25551\n",
       "HCL AMERICA, INC.                                   22488\n",
       "ERNST & YOUNG U.S. LLP                              18094\n",
       "COGNIZANT TECHNOLOGY SOLUTIONS U.S. CORPORATION     17322\n",
       "CAPGEMINI AMERICA INC                               16628\n",
       "GOOGLE INC.                                         16425\n",
       "LARSEN & TOUBRO INFOTECH LIMITED                    14318\n",
       "IGATE TECHNOLOGIES INC.                             12327\n",
       "IBM CORPORATION                                     11976\n",
       "Name: count, dtype: int64"
      ]
     },
     "execution_count": 9,
     "metadata": {},
     "output_type": "execute_result"
    }
   ],
   "source": [
    "f.EMPLOYER_NAME.value_counts().head(15)"
   ]
  },
  {
   "cell_type": "code",
   "execution_count": null,
   "metadata": {},
   "outputs": [
    {
     "data": {
      "text/plain": [
       "<Axes: title={'center': 'TOP 15 Hiring Company'}, xlabel='EMPLOYER_NAME'>"
      ]
     },
     "execution_count": 10,
     "metadata": {},
     "output_type": "execute_result"
    },
    {
     "data": {
      "image/png": "[encoded data removed]",
      "text/plain": [
       "<Figure size 640x480 with 1 Axes>"
      ]
     },
     "metadata": {},
     "output_type": "display_data"
    }
   ],
   "source": [
    "f['EMPLOYER_NAME'].value_counts().head(15).plot(kind = 'bar',title = \"TOP 15 Hiring Company\") "
   ]
  },
  {
   "cell_type": "markdown",
   "metadata": {},
   "source": [
    "ANALYZING THE PREVAILING WAGE"
   ]
  },
  {
   "cell_type": "code",
   "execution_count": null,
   "metadata": {},
   "outputs": [
    {
     "data": {
      "text/plain": [
       "PREVAILING_WAGE\n",
       "60000.0    10185\n",
       "55245.0     6745\n",
       "62566.0     6480\n",
       "58053.0     5683\n",
       "52499.0     5492\n",
       "Name: count, dtype: int64"
      ]
     },
     "execution_count": 11,
     "metadata": {},
     "output_type": "execute_result"
    }
   ],
   "source": [
    "f.PREVAILING_WAGE.value_counts().sort_values(ascending = False ).head()"
   ]
  },
  {
   "cell_type": "code",
   "execution_count": null,
   "metadata": {},
   "outputs": [
    {
     "data": {
      "text/plain": [
       "np.float64(145166.64888401062)"
      ]
     },
     "execution_count": 12,
     "metadata": {},
     "output_type": "execute_result"
    }
   ],
   "source": [
    "f.PREVAILING_WAGE.mean()"
   ]
  },
  {
   "cell_type": "code",
   "execution_count": null,
   "metadata": {},
   "outputs": [],
   "source": [
    "###Wages given by the employers"
   ]
  },
  {
   "cell_type": "code",
   "execution_count": 43,
   "metadata": {},
   "outputs": [
    {
     "data": {
      "text/html": [
       "<div>\n",
       "<style scoped>\n",
       "    .dataframe tbody tr th:only-of-type {\n",
       "        vertical-align: middle;\n",
       "    }\n",
       "\n",
       "    .dataframe tbody tr th {\n",
       "        vertical-align: top;\n",
       "    }\n",
       "\n",
       "    .dataframe thead th {\n",
       "        text-align: right;\n",
       "    }\n",
       "</style>\n",
       "<table border=\"1\" class=\"dataframe\">\n",
       "  <thead>\n",
       "    <tr style=\"text-align: right;\">\n",
       "      <th></th>\n",
       "      <th>CASE_STATUS</th>\n",
       "      <th>EMPLOYER_NAME</th>\n",
       "      <th>SOC_NAME</th>\n",
       "      <th>JOB_TITLE</th>\n",
       "      <th>FULL_TIME_POSITION</th>\n",
       "      <th>YEAR</th>\n",
       "      <th>WORKSITE</th>\n",
       "      <th>lon</th>\n",
       "      <th>lat</th>\n",
       "    </tr>\n",
       "    <tr>\n",
       "      <th>PREVAILING_WAGE</th>\n",
       "      <th></th>\n",
       "      <th></th>\n",
       "      <th></th>\n",
       "      <th></th>\n",
       "      <th></th>\n",
       "      <th></th>\n",
       "      <th></th>\n",
       "      <th></th>\n",
       "      <th></th>\n",
       "    </tr>\n",
       "  </thead>\n",
       "  <tbody>\n",
       "    <tr>\n",
       "      <th>0.000000e+00</th>\n",
       "      <td>DENIEDDENIEDDENIEDDENIEDDENIEDWITHDRAWNDENIEDD...</td>\n",
       "      <td>LOTUS SOFT CORPORATIONPERSON AREA RUGS LLCNATI...</td>\n",
       "      <td>COMPUTER AND INFORMATION SYSTEMS MANAGERSMANAG...</td>\n",
       "      <td>CIS MANAGERSE - COMMERCE MANAGEROPERATIONS AND...</td>\n",
       "      <td>NNNNNNNNNNNNYYYYYYYYYY</td>\n",
       "      <td>44335.0</td>\n",
       "      <td>NEW YORK, NEW YORKPISCATAWAY, NEW JERSEYCHICAG...</td>\n",
       "      <td>-1956.809598</td>\n",
       "      <td>789.709035</td>\n",
       "    </tr>\n",
       "    <tr>\n",
       "      <th>1.516000e+01</th>\n",
       "      <td>DENIED</td>\n",
       "      <td>FREEDOM GUITAR INC.</td>\n",
       "      <td>Sound Engineering Technicians</td>\n",
       "      <td>SOUND ENGINEER</td>\n",
       "      <td>N</td>\n",
       "      <td>2012.0</td>\n",
       "      <td>SAN DIEGO, CALIFORNIA</td>\n",
       "      <td>-117.161084</td>\n",
       "      <td>32.715738</td>\n",
       "    </tr>\n",
       "    <tr>\n",
       "      <th>3.169000e+01</th>\n",
       "      <td>DENIED</td>\n",
       "      <td>KALVEN TECHNOLOGIES INC</td>\n",
       "      <td>Software Developers, Applications</td>\n",
       "      <td>SOFTWARE ENGINEER</td>\n",
       "      <td>N</td>\n",
       "      <td>2012.0</td>\n",
       "      <td>ELK GROVE VILLAGE, ILLINOIS</td>\n",
       "      <td>-87.970346</td>\n",
       "      <td>42.003918</td>\n",
       "    </tr>\n",
       "    <tr>\n",
       "      <th>3.500000e+01</th>\n",
       "      <td>DENIED</td>\n",
       "      <td>CENTRO CULTURAL ESPANOL INC</td>\n",
       "      <td>ART DIRECTORS</td>\n",
       "      <td>CULTURAL DIRECTOR</td>\n",
       "      <td>N</td>\n",
       "      <td>2016.0</td>\n",
       "      <td>MIAMI, FLORIDA</td>\n",
       "      <td>-80.191790</td>\n",
       "      <td>25.761680</td>\n",
       "    </tr>\n",
       "    <tr>\n",
       "      <th>6.345000e+01</th>\n",
       "      <td>DENIED</td>\n",
       "      <td>ALTUS TECHNOLOGIES,INC</td>\n",
       "      <td>Computer Programmer Non R &amp; D</td>\n",
       "      <td>PROGRAMMER ANALYST</td>\n",
       "      <td>Y</td>\n",
       "      <td>2011.0</td>\n",
       "      <td>RALEIGH, NORTH CAROLINA</td>\n",
       "      <td>-78.638179</td>\n",
       "      <td>35.779590</td>\n",
       "    </tr>\n",
       "    <tr>\n",
       "      <th>...</th>\n",
       "      <td>...</td>\n",
       "      <td>...</td>\n",
       "      <td>...</td>\n",
       "      <td>...</td>\n",
       "      <td>...</td>\n",
       "      <td>...</td>\n",
       "      <td>...</td>\n",
       "      <td>...</td>\n",
       "      <td>...</td>\n",
       "    </tr>\n",
       "    <tr>\n",
       "      <th>6.169317e+08</th>\n",
       "      <td>DENIED</td>\n",
       "      <td>ARKRIT LLC</td>\n",
       "      <td>Computer Systems Analysts</td>\n",
       "      <td>PROGRAMMER/ANALYST</td>\n",
       "      <td>Y</td>\n",
       "      <td>2014.0</td>\n",
       "      <td>SAN JOSE, CALIFORNIA</td>\n",
       "      <td>-121.886329</td>\n",
       "      <td>37.338208</td>\n",
       "    </tr>\n",
       "    <tr>\n",
       "      <th>7.099999e+08</th>\n",
       "      <td>DENIED</td>\n",
       "      <td>IDEXCEL, INC.</td>\n",
       "      <td>Software Developers, Applications</td>\n",
       "      <td>.NET DEVELOPER</td>\n",
       "      <td>Y</td>\n",
       "      <td>2013.0</td>\n",
       "      <td>COLUMBUS, OHIO</td>\n",
       "      <td>-82.998794</td>\n",
       "      <td>39.961176</td>\n",
       "    </tr>\n",
       "    <tr>\n",
       "      <th>8.201323e+08</th>\n",
       "      <td>DENIED</td>\n",
       "      <td>DISCOVER PRODUCTS INC.</td>\n",
       "      <td>Statisticians</td>\n",
       "      <td>PROJECT MANAGER</td>\n",
       "      <td>Y</td>\n",
       "      <td>2014.0</td>\n",
       "      <td>RIVERWOODS, ILLINOIS</td>\n",
       "      <td>-87.897014</td>\n",
       "      <td>42.167525</td>\n",
       "    </tr>\n",
       "    <tr>\n",
       "      <th>1.007814e+09</th>\n",
       "      <td>DENIED</td>\n",
       "      <td>SCIVANTAGE, INC.</td>\n",
       "      <td>Computer Programmers</td>\n",
       "      <td>SOFTWARE DEVELOPER</td>\n",
       "      <td>Y</td>\n",
       "      <td>2011.0</td>\n",
       "      <td>JERSEY CITY, NEW JERSEY</td>\n",
       "      <td>-74.077642</td>\n",
       "      <td>40.728158</td>\n",
       "    </tr>\n",
       "    <tr>\n",
       "      <th>6.997607e+09</th>\n",
       "      <td>DENIED</td>\n",
       "      <td>GUARDIAN HEALTHCARE PROVIDERS, INC.</td>\n",
       "      <td>Physical Therapists</td>\n",
       "      <td>PHYSICAL THERAPISTS</td>\n",
       "      <td>Y</td>\n",
       "      <td>2013.0</td>\n",
       "      <td>PEKIN, ILLINOIS</td>\n",
       "      <td>-89.640658</td>\n",
       "      <td>40.567539</td>\n",
       "    </tr>\n",
       "  </tbody>\n",
       "</table>\n",
       "<p>53874 rows × 9 columns</p>\n",
       "</div>"
      ],
      "text/plain": [
       "                                                       CASE_STATUS  \\\n",
       "PREVAILING_WAGE                                                      \n",
       "0.000000e+00     DENIEDDENIEDDENIEDDENIEDDENIEDWITHDRAWNDENIEDD...   \n",
       "1.516000e+01                                                DENIED   \n",
       "3.169000e+01                                                DENIED   \n",
       "3.500000e+01                                                DENIED   \n",
       "6.345000e+01                                                DENIED   \n",
       "...                                                            ...   \n",
       "6.169317e+08                                                DENIED   \n",
       "7.099999e+08                                                DENIED   \n",
       "8.201323e+08                                                DENIED   \n",
       "1.007814e+09                                                DENIED   \n",
       "6.997607e+09                                                DENIED   \n",
       "\n",
       "                                                     EMPLOYER_NAME  \\\n",
       "PREVAILING_WAGE                                                      \n",
       "0.000000e+00     LOTUS SOFT CORPORATIONPERSON AREA RUGS LLCNATI...   \n",
       "1.516000e+01                                   FREEDOM GUITAR INC.   \n",
       "3.169000e+01                               KALVEN TECHNOLOGIES INC   \n",
       "3.500000e+01                           CENTRO CULTURAL ESPANOL INC   \n",
       "6.345000e+01                                ALTUS TECHNOLOGIES,INC   \n",
       "...                                                            ...   \n",
       "6.169317e+08                                            ARKRIT LLC   \n",
       "7.099999e+08                                         IDEXCEL, INC.   \n",
       "8.201323e+08                                DISCOVER PRODUCTS INC.   \n",
       "1.007814e+09                                      SCIVANTAGE, INC.   \n",
       "6.997607e+09                   GUARDIAN HEALTHCARE PROVIDERS, INC.   \n",
       "\n",
       "                                                          SOC_NAME  \\\n",
       "PREVAILING_WAGE                                                      \n",
       "0.000000e+00     COMPUTER AND INFORMATION SYSTEMS MANAGERSMANAG...   \n",
       "1.516000e+01                         Sound Engineering Technicians   \n",
       "3.169000e+01                     Software Developers, Applications   \n",
       "3.500000e+01                                         ART DIRECTORS   \n",
       "6.345000e+01                         Computer Programmer Non R & D   \n",
       "...                                                            ...   \n",
       "6.169317e+08                             Computer Systems Analysts   \n",
       "7.099999e+08                     Software Developers, Applications   \n",
       "8.201323e+08                                         Statisticians   \n",
       "1.007814e+09                                  Computer Programmers   \n",
       "6.997607e+09                                   Physical Therapists   \n",
       "\n",
       "                                                         JOB_TITLE  \\\n",
       "PREVAILING_WAGE                                                      \n",
       "0.000000e+00     CIS MANAGERSE - COMMERCE MANAGEROPERATIONS AND...   \n",
       "1.516000e+01                                        SOUND ENGINEER   \n",
       "3.169000e+01                                     SOFTWARE ENGINEER   \n",
       "3.500000e+01                                     CULTURAL DIRECTOR   \n",
       "6.345000e+01                                    PROGRAMMER ANALYST   \n",
       "...                                                            ...   \n",
       "6.169317e+08                                    PROGRAMMER/ANALYST   \n",
       "7.099999e+08                                        .NET DEVELOPER   \n",
       "8.201323e+08                                       PROJECT MANAGER   \n",
       "1.007814e+09                                    SOFTWARE DEVELOPER   \n",
       "6.997607e+09                                   PHYSICAL THERAPISTS   \n",
       "\n",
       "                     FULL_TIME_POSITION     YEAR  \\\n",
       "PREVAILING_WAGE                                    \n",
       "0.000000e+00     NNNNNNNNNNNNYYYYYYYYYY  44335.0   \n",
       "1.516000e+01                          N   2012.0   \n",
       "3.169000e+01                          N   2012.0   \n",
       "3.500000e+01                          N   2016.0   \n",
       "6.345000e+01                          Y   2011.0   \n",
       "...                                 ...      ...   \n",
       "6.169317e+08                          Y   2014.0   \n",
       "7.099999e+08                          Y   2013.0   \n",
       "8.201323e+08                          Y   2014.0   \n",
       "1.007814e+09                          Y   2011.0   \n",
       "6.997607e+09                          Y   2013.0   \n",
       "\n",
       "                                                          WORKSITE  \\\n",
       "PREVAILING_WAGE                                                      \n",
       "0.000000e+00     NEW YORK, NEW YORKPISCATAWAY, NEW JERSEYCHICAG...   \n",
       "1.516000e+01                                 SAN DIEGO, CALIFORNIA   \n",
       "3.169000e+01                           ELK GROVE VILLAGE, ILLINOIS   \n",
       "3.500000e+01                                        MIAMI, FLORIDA   \n",
       "6.345000e+01                               RALEIGH, NORTH CAROLINA   \n",
       "...                                                            ...   \n",
       "6.169317e+08                                  SAN JOSE, CALIFORNIA   \n",
       "7.099999e+08                                        COLUMBUS, OHIO   \n",
       "8.201323e+08                                  RIVERWOODS, ILLINOIS   \n",
       "1.007814e+09                               JERSEY CITY, NEW JERSEY   \n",
       "6.997607e+09                                       PEKIN, ILLINOIS   \n",
       "\n",
       "                         lon         lat  \n",
       "PREVAILING_WAGE                           \n",
       "0.000000e+00    -1956.809598  789.709035  \n",
       "1.516000e+01     -117.161084   32.715738  \n",
       "3.169000e+01      -87.970346   42.003918  \n",
       "3.500000e+01      -80.191790   25.761680  \n",
       "6.345000e+01      -78.638179   35.779590  \n",
       "...                      ...         ...  \n",
       "6.169317e+08     -121.886329   37.338208  \n",
       "7.099999e+08      -82.998794   39.961176  \n",
       "8.201323e+08      -87.897014   42.167525  \n",
       "1.007814e+09      -74.077642   40.728158  \n",
       "6.997607e+09      -89.640658   40.567539  \n",
       "\n",
       "[53874 rows x 9 columns]"
      ]
     },
     "execution_count": 43,
     "metadata": {},
     "output_type": "execute_result"
    }
   ],
   "source": [
    "\n",
    "f.groupby(['PREVAILING_WAGE']).sum()\n",
    "\n"
   ]
  },
  {
   "cell_type": "markdown",
   "metadata": {},
   "source": [
    "WORKSITE "
   ]
  },
  {
   "cell_type": "code",
   "execution_count": 44,
   "metadata": {},
   "outputs": [
    {
     "data": {
      "text/plain": [
       "WORKSITE\n",
       "NEW YORK, NEW YORK            190863\n",
       "HOUSTON, TEXAS                 83385\n",
       "SAN FRANCISCO, CALIFORNIA      62457\n",
       "ATLANTA, GEORGIA               52008\n",
       "CHICAGO, ILLINOIS              51167\n",
       "SAN JOSE, CALIFORNIA           49582\n",
       "SUNNYVALE, CALIFORNIA          34968\n",
       "DALLAS, TEXAS                  31509\n",
       "BOSTON, MASSACHUSETTS          31336\n",
       "REDMOND, WASHINGTON            30574\n",
       "CHARLOTTE, NORTH CAROLINA      30176\n",
       "IRVING, TEXAS                  29316\n",
       "MOUNTAIN VIEW, CALIFORNIA      29245\n",
       "SAN DIEGO, CALIFORNIA          28656\n",
       "SANTA CLARA, CALIFORNIA        27945\n",
       "JERSEY CITY, NEW JERSEY        26822\n",
       "SEATTLE, WASHINGTON            26745\n",
       "AUSTIN, TEXAS                  26695\n",
       "LOS ANGELES, CALIFORNIA        26393\n",
       "PHILADELPHIA, PENNSYLVANIA     24104\n",
       "Name: count, dtype: int64"
      ]
     },
     "execution_count": 44,
     "metadata": {},
     "output_type": "execute_result"
    }
   ],
   "source": [
    "f['WORKSITE'].value_counts().head(20)"
   ]
  },
  {
   "cell_type": "code",
   "execution_count": 45,
   "metadata": {},
   "outputs": [
    {
     "name": "stdout",
     "output_type": "stream",
     "text": [
      "53\n"
     ]
    }
   ],
   "source": [
    "f.loc[:,'WORKSITE'] = f.loc[:,'WORKSITE'].apply(lambda rec:rec.split(',')[1][1:])\n",
    "def change_NA(rec):\n",
    "    if (rec=='NA') :\n",
    "        return 'MARIANA ISLAND'\n",
    "    return rec\n",
    "f.loc[:,'WORKSITE'] = f.loc[:,'WORKSITE'].apply(lambda rec: change_NA(rec))\n",
    "print(len(f['WORKSITE'].unique()))"
   ]
  },
  {
   "cell_type": "code",
   "execution_count": 46,
   "metadata": {},
   "outputs": [
    {
     "data": {
      "text/plain": [
       "<Axes: xlabel='WORKSITE'>"
      ]
     },
     "execution_count": 46,
     "metadata": {},
     "output_type": "execute_result"
    },
    {
     "data": {
      "image/png": "[encoded data removed]",
      "text/plain": [
       "<Figure size 640x480 with 1 Axes>"
      ]
     },
     "metadata": {},
     "output_type": "display_data"
    }
   ],
   "source": [
    "f['WORKSITE'].value_counts().head(20).plot(kind='bar')"
   ]
  },
  {
   "cell_type": "markdown",
   "metadata": {},
   "source": [
    "Changing the columns name"
   ]
  },
  {
   "cell_type": "code",
   "execution_count": 47,
   "metadata": {},
   "outputs": [],
   "source": [
    "f.rename(columns ={'EMPLOYER_NAME':'EMPLOYER','FULL_TIME_POSITION':'FULL_T','PREVAILING_WAGE':'PREV_WAGE','WORKSITE':'STATES','lon':'LON','lat':'LAT'},inplace = True)"
   ]
  },
  {
   "cell_type": "code",
   "execution_count": 48,
   "metadata": {},
   "outputs": [
    {
     "data": {
      "text/plain": [
       "Index(['CASE_STATUS', 'YEAR', 'STATES', 'SOC_NAME', 'JOB_TITLE', 'FULL_T',\n",
       "       'PREV_WAGE', 'EMPLOYER', 'LON', 'LAT'],\n",
       "      dtype='object')"
      ]
     },
     "execution_count": 48,
     "metadata": {},
     "output_type": "execute_result"
    }
   ],
   "source": [
    "columns_to_keep = ['CASE_STATUS','YEAR','STATES','SOC_NAME','JOB_TITLE','FULL_T','PREV_WAGE','EMPLOYER','LON','LAT']\n",
    "f =f[columns_to_keep]\n",
    "f.columns"
   ]
  },
  {
   "cell_type": "markdown",
   "metadata": {},
   "source": [
    "Setting the precision value upto 2 decimal place "
   ]
  },
  {
   "cell_type": "code",
   "execution_count": 49,
   "metadata": {},
   "outputs": [],
   "source": [
    "f['LON'] = f['LON'].apply(lambda lon : float(\"% .2f\" %lon))"
   ]
  },
  {
   "cell_type": "code",
   "execution_count": 50,
   "metadata": {},
   "outputs": [],
   "source": [
    "f['LAT'] = f['LAT'].apply(lambda lat : float(\"% .2f\" %lat))"
   ]
  },
  {
   "cell_type": "code",
   "execution_count": 51,
   "metadata": {},
   "outputs": [
    {
     "data": {
      "text/html": [
       "<div>\n",
       "<style scoped>\n",
       "    .dataframe tbody tr th:only-of-type {\n",
       "        vertical-align: middle;\n",
       "    }\n",
       "\n",
       "    .dataframe tbody tr th {\n",
       "        vertical-align: top;\n",
       "    }\n",
       "\n",
       "    .dataframe thead th {\n",
       "        text-align: right;\n",
       "    }\n",
       "</style>\n",
       "<table border=\"1\" class=\"dataframe\">\n",
       "  <thead>\n",
       "    <tr style=\"text-align: right;\">\n",
       "      <th></th>\n",
       "      <th>CASE_STATUS</th>\n",
       "      <th>YEAR</th>\n",
       "      <th>STATES</th>\n",
       "      <th>SOC_NAME</th>\n",
       "      <th>JOB_TITLE</th>\n",
       "      <th>FULL_T</th>\n",
       "      <th>PREV_WAGE</th>\n",
       "      <th>EMPLOYER</th>\n",
       "      <th>LON</th>\n",
       "      <th>LAT</th>\n",
       "    </tr>\n",
       "  </thead>\n",
       "  <tbody>\n",
       "    <tr>\n",
       "      <th>0</th>\n",
       "      <td>CERTIFIED-WITHDRAWN</td>\n",
       "      <td>2016.0</td>\n",
       "      <td>MICHIGAN</td>\n",
       "      <td>BIOCHEMISTS AND BIOPHYSICISTS</td>\n",
       "      <td>POSTDOCTORAL RESEARCH FELLOW</td>\n",
       "      <td>N</td>\n",
       "      <td>36067.0</td>\n",
       "      <td>UNIVERSITY OF MICHIGAN</td>\n",
       "      <td>-83.74</td>\n",
       "      <td>42.28</td>\n",
       "    </tr>\n",
       "    <tr>\n",
       "      <th>1</th>\n",
       "      <td>CERTIFIED-WITHDRAWN</td>\n",
       "      <td>2016.0</td>\n",
       "      <td>TEXAS</td>\n",
       "      <td>CHIEF EXECUTIVES</td>\n",
       "      <td>CHIEF OPERATING OFFICER</td>\n",
       "      <td>Y</td>\n",
       "      <td>242674.0</td>\n",
       "      <td>GOODMAN NETWORKS, INC.</td>\n",
       "      <td>-96.70</td>\n",
       "      <td>33.02</td>\n",
       "    </tr>\n",
       "    <tr>\n",
       "      <th>2</th>\n",
       "      <td>CERTIFIED-WITHDRAWN</td>\n",
       "      <td>2016.0</td>\n",
       "      <td>NEW JERSEY</td>\n",
       "      <td>CHIEF EXECUTIVES</td>\n",
       "      <td>CHIEF PROCESS OFFICER</td>\n",
       "      <td>Y</td>\n",
       "      <td>193066.0</td>\n",
       "      <td>PORTS AMERICA GROUP, INC.</td>\n",
       "      <td>-74.08</td>\n",
       "      <td>40.73</td>\n",
       "    </tr>\n",
       "    <tr>\n",
       "      <th>3</th>\n",
       "      <td>CERTIFIED-WITHDRAWN</td>\n",
       "      <td>2016.0</td>\n",
       "      <td>COLORADO</td>\n",
       "      <td>CHIEF EXECUTIVES</td>\n",
       "      <td>REGIONAL PRESIDEN, AMERICAS</td>\n",
       "      <td>Y</td>\n",
       "      <td>220314.0</td>\n",
       "      <td>GATES CORPORATION, A WHOLLY-OWNED SUBSIDIARY O...</td>\n",
       "      <td>-104.99</td>\n",
       "      <td>39.74</td>\n",
       "    </tr>\n",
       "    <tr>\n",
       "      <th>4</th>\n",
       "      <td>WITHDRAWN</td>\n",
       "      <td>2016.0</td>\n",
       "      <td>MISSOURI</td>\n",
       "      <td>CHIEF EXECUTIVES</td>\n",
       "      <td>PRESIDENT MONGOLIA AND INDIA</td>\n",
       "      <td>Y</td>\n",
       "      <td>157518.4</td>\n",
       "      <td>PEABODY INVESTMENTS CORP.</td>\n",
       "      <td>-90.20</td>\n",
       "      <td>38.63</td>\n",
       "    </tr>\n",
       "  </tbody>\n",
       "</table>\n",
       "</div>"
      ],
      "text/plain": [
       "           CASE_STATUS    YEAR      STATES                       SOC_NAME  \\\n",
       "0  CERTIFIED-WITHDRAWN  2016.0    MICHIGAN  BIOCHEMISTS AND BIOPHYSICISTS   \n",
       "1  CERTIFIED-WITHDRAWN  2016.0       TEXAS               CHIEF EXECUTIVES   \n",
       "2  CERTIFIED-WITHDRAWN  2016.0  NEW JERSEY               CHIEF EXECUTIVES   \n",
       "3  CERTIFIED-WITHDRAWN  2016.0    COLORADO               CHIEF EXECUTIVES   \n",
       "4            WITHDRAWN  2016.0    MISSOURI               CHIEF EXECUTIVES   \n",
       "\n",
       "                      JOB_TITLE FULL_T  PREV_WAGE  \\\n",
       "0  POSTDOCTORAL RESEARCH FELLOW      N    36067.0   \n",
       "1       CHIEF OPERATING OFFICER      Y   242674.0   \n",
       "2         CHIEF PROCESS OFFICER      Y   193066.0   \n",
       "3   REGIONAL PRESIDEN, AMERICAS      Y   220314.0   \n",
       "4  PRESIDENT MONGOLIA AND INDIA      Y   157518.4   \n",
       "\n",
       "                                            EMPLOYER     LON    LAT  \n",
       "0                             UNIVERSITY OF MICHIGAN  -83.74  42.28  \n",
       "1                             GOODMAN NETWORKS, INC.  -96.70  33.02  \n",
       "2                          PORTS AMERICA GROUP, INC.  -74.08  40.73  \n",
       "3  GATES CORPORATION, A WHOLLY-OWNED SUBSIDIARY O... -104.99  39.74  \n",
       "4                          PEABODY INVESTMENTS CORP.  -90.20  38.63  "
      ]
     },
     "execution_count": 51,
     "metadata": {},
     "output_type": "execute_result"
    }
   ],
   "source": [
    "f.head()"
   ]
  },
  {
   "cell_type": "code",
   "execution_count": 52,
   "metadata": {},
   "outputs": [
    {
     "data": {
      "text/plain": [
       "array(['CERTIFIED-WITHDRAWN', 'WITHDRAWN', 'CERTIFIED', 'DENIED',\n",
       "       'REJECTED', 'INVALIDATED',\n",
       "       'PENDING QUALITY AND COMPLIANCE REVIEW - UNASSIGNED'], dtype=object)"
      ]
     },
     "execution_count": 52,
     "metadata": {},
     "output_type": "execute_result"
    }
   ],
   "source": [
    "f['CASE_STATUS'].unique()"
   ]
  },
  {
   "cell_type": "markdown",
   "metadata": {},
   "source": [
    "calculating the petition ditribution by  case status"
   ]
  },
  {
   "cell_type": "code",
   "execution_count": 53,
   "metadata": {},
   "outputs": [
    {
     "data": {
      "text/plain": [
       "[np.int64(195721),\n",
       " np.int64(84752),\n",
       " np.int64(2512114),\n",
       " np.int64(85161),\n",
       " np.int64(1),\n",
       " np.int64(1),\n",
       " np.int64(15)]"
      ]
     },
     "execution_count": 53,
     "metadata": {},
     "output_type": "execute_result"
    }
   ],
   "source": [
    "s_f = [0]*7\n",
    "states = ['CERTIFIED-WITHDRAWN', 'WITHDRAWN', 'CERTIFIED', 'DENIED',\n",
    "       'REJECTED', 'INVALIDATED',\n",
    "       'PENDING QUALITY AND COMPLIANCE REVIEW - UNASSIGNED']\n",
    "for i in range(0,7):\n",
    "    s_f[i]= f[f.CASE_STATUS == states[i]]['CASE_STATUS'].count()\n",
    "s_f"
   ]
  },
  {
   "cell_type": "code",
   "execution_count": 54,
   "metadata": {},
   "outputs": [
    {
     "name": "stderr",
     "output_type": "stream",
     "text": [
      "Ignoring fixed y limits to fulfill fixed data aspect with adjustable data limits.\n"
     ]
    },
    {
     "data": {
      "image/png": "[encoded data removed]",
      "text/plain": [
       "<Figure size 450x450 with 1 Axes>"
      ]
     },
     "metadata": {},
     "output_type": "display_data"
    }
   ],
   "source": [
    "from matplotlib.pyplot import pie , axis , show\n",
    "\n",
    "import matplotlib.pyplot as plt\n",
    "plt.figure(figsize=(4.5,4.5))\n",
    "plt.title(\"PETITION BY CASE STATUS\")\n",
    "axis('equal')\n",
    "pie(s_f[:4],labels = states[:4])\n",
    "show()"
   ]
  },
  {
   "cell_type": "markdown",
   "metadata": {},
   "source": [
    "calculating petitions distribution per year"
   ]
  },
  {
   "cell_type": "code",
   "execution_count": null,
   "metadata": {},
   "outputs": [
    {
     "data": {
      "text/plain": [
       "array([2016., 2015., 2014., 2013., 2012., 2011.])"
      ]
     },
     "execution_count": 55,
     "metadata": {},
     "output_type": "execute_result"
    }
   ],
   "source": [
    "f['YEAR'].unique()"
   ]
  },
  {
   "cell_type": "code",
   "execution_count": null,
   "metadata": {},
   "outputs": [
    {
     "data": {
      "text/plain": [
       "[np.int64(629299),\n",
       " np.int64(600120),\n",
       " np.int64(498027),\n",
       " np.int64(422427),\n",
       " np.int64(394267),\n",
       " np.int64(333625)]"
      ]
     },
     "execution_count": 56,
     "metadata": {},
     "output_type": "execute_result"
    }
   ],
   "source": [
    "y = [2016., 2015., 2014., 2013., 2012., 2011.]\n",
    "y_c = [0]*6\n",
    "for j in range(0,6):\n",
    "    y_c[j] = f[f.YEAR==y[j]]['YEAR'].count()\n",
    "y_c"
   ]
  },
  {
   "cell_type": "markdown",
   "metadata": {},
   "source": [
    "ANALYZING DENIED PETITIONS PER YEAR"
   ]
  },
  {
   "cell_type": "code",
   "execution_count": null,
   "metadata": {},
   "outputs": [],
   "source": []
  },
  {
   "cell_type": "code",
   "execution_count": null,
   "metadata": {},
   "outputs": [
    {
     "data": {
      "text/plain": [
       "94346"
      ]
     },
     "execution_count": 24,
     "metadata": {},
     "output_type": "execute_result"
    }
   ],
   "source": [
    "den = f[f.CASE_STATUS=='DENIED']\n",
    "len(den)"
   ]
  },
  {
   "cell_type": "code",
   "execution_count": null,
   "metadata": {},
   "outputs": [
    {
     "data": {
      "text/html": [
       "<div>\n",
       "<style scoped>\n",
       "    .dataframe tbody tr th:only-of-type {\n",
       "        vertical-align: middle;\n",
       "    }\n",
       "\n",
       "    .dataframe tbody tr th {\n",
       "        vertical-align: top;\n",
       "    }\n",
       "\n",
       "    .dataframe thead th {\n",
       "        text-align: right;\n",
       "    }\n",
       "</style>\n",
       "<table border=\"1\" class=\"dataframe\">\n",
       "  <thead>\n",
       "    <tr style=\"text-align: right;\">\n",
       "      <th></th>\n",
       "      <th>index</th>\n",
       "      <th>EMPLOYER</th>\n",
       "      <th>SOC_NAME</th>\n",
       "      <th>JOB_TITLE</th>\n",
       "      <th>FULL_T</th>\n",
       "      <th>PREV_WAGE</th>\n",
       "      <th>YEAR</th>\n",
       "      <th>STATES</th>\n",
       "      <th>LON</th>\n",
       "      <th>LAT</th>\n",
       "    </tr>\n",
       "  </thead>\n",
       "  <tbody>\n",
       "    <tr>\n",
       "      <th>0</th>\n",
       "      <td>39</td>\n",
       "      <td>PARALLELS, INC.</td>\n",
       "      <td>CHIEF EXECUTIVES</td>\n",
       "      <td>CHIEF EXECUTIVE OFFICER</td>\n",
       "      <td>Y</td>\n",
       "      <td>187200.0</td>\n",
       "      <td>2016.0</td>\n",
       "      <td>WASHINGTON</td>\n",
       "      <td>-122.22</td>\n",
       "      <td>47.48</td>\n",
       "    </tr>\n",
       "    <tr>\n",
       "      <th>1</th>\n",
       "      <td>47</td>\n",
       "      <td>RANCHO LA PUERTA LLC</td>\n",
       "      <td>CHIEF EXECUTIVES</td>\n",
       "      <td>PRESIDENT</td>\n",
       "      <td>Y</td>\n",
       "      <td>197683.2</td>\n",
       "      <td>2016.0</td>\n",
       "      <td>CALIFORNIA</td>\n",
       "      <td>-117.16</td>\n",
       "      <td>32.72</td>\n",
       "    </tr>\n",
       "  </tbody>\n",
       "</table>\n",
       "</div>"
      ],
      "text/plain": [
       "   index              EMPLOYER          SOC_NAME                JOB_TITLE  \\\n",
       "0     39       PARALLELS, INC.  CHIEF EXECUTIVES  CHIEF EXECUTIVE OFFICER   \n",
       "1     47  RANCHO LA PUERTA LLC  CHIEF EXECUTIVES                PRESIDENT   \n",
       "\n",
       "  FULL_T  PREV_WAGE    YEAR      STATES     LON    LAT  \n",
       "0      Y   187200.0  2016.0  WASHINGTON -122.22  47.48  \n",
       "1      Y   197683.2  2016.0  CALIFORNIA -117.16  32.72  "
      ]
     },
     "execution_count": 25,
     "metadata": {},
     "output_type": "execute_result"
    }
   ],
   "source": [
    "del den['CASE_STATUS']\n",
    "den = den.reset_index()\n",
    "den.head(2)"
   ]
  },
  {
   "cell_type": "markdown",
   "metadata": {},
   "source": [
    "Calculating denied petition distribution per year"
   ]
  },
  {
   "cell_type": "code",
   "execution_count": null,
   "metadata": {},
   "outputs": [
    {
     "data": {
      "text/plain": [
       "[9175, 10923, 11896, 12126, 21096, 29130]"
      ]
     },
     "execution_count": 26,
     "metadata": {},
     "output_type": "execute_result"
    }
   ],
   "source": [
    "d_y = [0]*6\n",
    "for i in range(0,6):\n",
    "    d_y[i]=den[den.YEAR==y[i]]['YEAR'].count()\n",
    "d_y"
   ]
  },
  {
   "cell_type": "code",
   "execution_count": null,
   "metadata": {},
   "outputs": [
    {
     "data": {
      "text/plain": [
       "<matplotlib.axes._subplots.AxesSubplot at 0x222b31a8>"
      ]
     },
     "execution_count": 27,
     "metadata": {},
     "output_type": "execute_result"
    },
    {
     "data": {
      "image/png": "[encoded data removed]",
      "text/plain": [
       "<Figure size 936x216 with 1 Axes>"
      ]
     },
     "metadata": {
      "needs_background": "light"
     },
     "output_type": "display_data"
    }
   ],
   "source": [
    "sns.set_context(\"notebook\",font_scale = 1.0)\n",
    "plt.figure(figsize = (13,3))\n",
    "plt.title(\" DENIED PETITIONS DISTRIBUTION PER YEAR\")\n",
    "sns.countplot(den['YEAR'])"
   ]
  },
  {
   "cell_type": "markdown",
   "metadata": {},
   "source": [
    "Calculating the rate at which denied petitins per year\n"
   ]
  },
  {
   "cell_type": "code",
   "execution_count": null,
   "metadata": {},
   "outputs": [
    {
     "data": {
      "text/html": [
       "<div>\n",
       "<style scoped>\n",
       "    .dataframe tbody tr th:only-of-type {\n",
       "        vertical-align: middle;\n",
       "    }\n",
       "\n",
       "    .dataframe tbody tr th {\n",
       "        vertical-align: top;\n",
       "    }\n",
       "\n",
       "    .dataframe thead th {\n",
       "        text-align: right;\n",
       "    }\n",
       "</style>\n",
       "<table border=\"1\" class=\"dataframe\">\n",
       "  <thead>\n",
       "    <tr style=\"text-align: right;\">\n",
       "      <th></th>\n",
       "      <th>denied rate %</th>\n",
       "    </tr>\n",
       "    <tr>\n",
       "      <th>YEAR</th>\n",
       "      <th></th>\n",
       "    </tr>\n",
       "  </thead>\n",
       "  <tbody>\n",
       "    <tr>\n",
       "      <th>2016.0</th>\n",
       "      <td>1.42</td>\n",
       "    </tr>\n",
       "    <tr>\n",
       "      <th>2015.0</th>\n",
       "      <td>1.77</td>\n",
       "    </tr>\n",
       "    <tr>\n",
       "      <th>2014.0</th>\n",
       "      <td>2.29</td>\n",
       "    </tr>\n",
       "    <tr>\n",
       "      <th>2013.0</th>\n",
       "      <td>2.74</td>\n",
       "    </tr>\n",
       "    <tr>\n",
       "      <th>2012.0</th>\n",
       "      <td>5.08</td>\n",
       "    </tr>\n",
       "    <tr>\n",
       "      <th>2011.0</th>\n",
       "      <td>8.12</td>\n",
       "    </tr>\n",
       "  </tbody>\n",
       "</table>\n",
       "</div>"
      ],
      "text/plain": [
       "        denied rate %\n",
       "YEAR                 \n",
       "2016.0           1.42\n",
       "2015.0           1.77\n",
       "2014.0           2.29\n",
       "2013.0           2.74\n",
       "2012.0           5.08\n",
       "2011.0           8.12"
      ]
     },
     "execution_count": 28,
     "metadata": {},
     "output_type": "execute_result"
    }
   ],
   "source": [
    "d_y_r = [0]*6\n",
    "for i in range(0,6):\n",
    "    d_y_r[i] = float(\"% .2f\" %((d_y[i]/y_c[i])*100))\n",
    "ratio = pd.DataFrame()\n",
    "ratio['YEAR'] = y\n",
    "ratio['denied rate %'] = d_y_r\n",
    "ratio = ratio.set_index(['YEAR'])\n",
    "ratio\n"
   ]
  },
  {
   "cell_type": "code",
   "execution_count": null,
   "metadata": {},
   "outputs": [
    {
     "data": {
      "text/html": [
       "<div>\n",
       "<style scoped>\n",
       "    .dataframe tbody tr th:only-of-type {\n",
       "        vertical-align: middle;\n",
       "    }\n",
       "\n",
       "    .dataframe tbody tr th {\n",
       "        vertical-align: top;\n",
       "    }\n",
       "\n",
       "    .dataframe thead th {\n",
       "        text-align: right;\n",
       "    }\n",
       "</style>\n",
       "<table border=\"1\" class=\"dataframe\">\n",
       "  <thead>\n",
       "    <tr style=\"text-align: right;\">\n",
       "      <th>YEAR</th>\n",
       "      <th>2016.0</th>\n",
       "      <th>2015.0</th>\n",
       "      <th>2014.0</th>\n",
       "      <th>2013.0</th>\n",
       "      <th>2012.0</th>\n",
       "      <th>2011.0</th>\n",
       "    </tr>\n",
       "  </thead>\n",
       "  <tbody>\n",
       "    <tr>\n",
       "      <th>denied rate %</th>\n",
       "      <td>1.42</td>\n",
       "      <td>1.77</td>\n",
       "      <td>2.29</td>\n",
       "      <td>2.74</td>\n",
       "      <td>5.08</td>\n",
       "      <td>8.12</td>\n",
       "    </tr>\n",
       "  </tbody>\n",
       "</table>\n",
       "</div>"
      ],
      "text/plain": [
       "YEAR           2016.0  2015.0  2014.0  2013.0  2012.0  2011.0\n",
       "denied rate %    1.42    1.77    2.29    2.74    5.08    8.12"
      ]
     },
     "execution_count": 29,
     "metadata": {},
     "output_type": "execute_result"
    }
   ],
   "source": [
    "ratio.T"
   ]
  },
  {
   "cell_type": "code",
   "execution_count": null,
   "metadata": {},
   "outputs": [
    {
     "data": {
      "text/html": [
       "<div>\n",
       "<style scoped>\n",
       "    .dataframe tbody tr th:only-of-type {\n",
       "        vertical-align: middle;\n",
       "    }\n",
       "\n",
       "    .dataframe tbody tr th {\n",
       "        vertical-align: top;\n",
       "    }\n",
       "\n",
       "    .dataframe thead th {\n",
       "        text-align: right;\n",
       "    }\n",
       "</style>\n",
       "<table border=\"1\" class=\"dataframe\">\n",
       "  <thead>\n",
       "    <tr style=\"text-align: right;\">\n",
       "      <th></th>\n",
       "      <th>YEAR</th>\n",
       "      <th>denied rate %</th>\n",
       "    </tr>\n",
       "  </thead>\n",
       "  <tbody>\n",
       "    <tr>\n",
       "      <th>0</th>\n",
       "      <td>2016.0</td>\n",
       "      <td>1.42</td>\n",
       "    </tr>\n",
       "    <tr>\n",
       "      <th>1</th>\n",
       "      <td>2015.0</td>\n",
       "      <td>1.77</td>\n",
       "    </tr>\n",
       "    <tr>\n",
       "      <th>2</th>\n",
       "      <td>2014.0</td>\n",
       "      <td>2.29</td>\n",
       "    </tr>\n",
       "    <tr>\n",
       "      <th>3</th>\n",
       "      <td>2013.0</td>\n",
       "      <td>2.74</td>\n",
       "    </tr>\n",
       "    <tr>\n",
       "      <th>4</th>\n",
       "      <td>2012.0</td>\n",
       "      <td>5.08</td>\n",
       "    </tr>\n",
       "    <tr>\n",
       "      <th>5</th>\n",
       "      <td>2011.0</td>\n",
       "      <td>8.12</td>\n",
       "    </tr>\n",
       "  </tbody>\n",
       "</table>\n",
       "</div>"
      ],
      "text/plain": [
       "     YEAR  denied rate %\n",
       "0  2016.0           1.42\n",
       "1  2015.0           1.77\n",
       "2  2014.0           2.29\n",
       "3  2013.0           2.74\n",
       "4  2012.0           5.08\n",
       "5  2011.0           8.12"
      ]
     },
     "execution_count": 30,
     "metadata": {},
     "output_type": "execute_result"
    }
   ],
   "source": [
    "ratio = ratio.reset_index()\n",
    "ratio"
   ]
  },
  {
   "cell_type": "code",
   "execution_count": null,
   "metadata": {},
   "outputs": [
    {
     "data": {
      "image/png": "[encoded data removed]",
      "text/plain": [
       "<Figure size 936x216 with 1 Axes>"
      ]
     },
     "metadata": {
      "needs_background": "light"
     },
     "output_type": "display_data"
    }
   ],
   "source": [
    "sns.set_context(\"notebook\",font_scale = 1.0)\n",
    "plt.figure(figsize=(13,3))\n",
    "plt.title(\"DENIED PETITIONS PER YEAR\")\n",
    "g = sns.barplot(x ='YEAR',y ='denied rate %',data=ratio)"
   ]
  },
  {
   "cell_type": "markdown",
   "metadata": {},
   "source": [
    "Calculating the number of petitions filled by the states\n"
   ]
  },
  {
   "cell_type": "code",
   "execution_count": null,
   "metadata": {},
   "outputs": [
    {
     "data": {
      "text/plain": [
       "array(['MICHIGAN', 'TEXAS', 'NEW JERSEY', 'COLORADO', 'MISSOURI',\n",
       "       'FLORIDA', 'CALIFORNIA', 'VIRGINIA', 'PENNSYLVANIA',\n",
       "       'MASSACHUSETTS', 'WISCONSIN', 'ILLINOIS', 'DISTRICT OF COLUMBIA',\n",
       "       'NORTH CAROLINA', 'RHODE ISLAND', 'OHIO', 'WASHINGTON', 'GEORGIA',\n",
       "       'NEW YORK', 'INDIANA', 'MARYLAND', 'NEVADA', 'NEW HAMPSHIRE',\n",
       "       'LOUISIANA', 'MINNESOTA', 'SOUTH CAROLINA', 'ARIZONA', 'TENNESSEE',\n",
       "       'MISSISSIPPI', 'HAWAII', 'UTAH', 'DELAWARE', 'MARIANA ISLAND',\n",
       "       'KANSAS', 'CONNECTICUT', 'MAINE', 'NEBRASKA', 'OKLAHOMA',\n",
       "       'ARKANSAS', 'KENTUCKY', 'PUERTO RICO', 'ALASKA', 'WYOMING', 'IOWA',\n",
       "       'OREGON', 'IDAHO', 'NEW MEXICO', 'WEST VIRGINIA', 'SOUTH DAKOTA',\n",
       "       'NORTH DAKOTA', 'ALABAMA', 'VERMONT', 'MONTANA'], dtype=object)"
      ]
     },
     "execution_count": 32,
     "metadata": {},
     "output_type": "execute_result"
    }
   ],
   "source": [
    "f['STATES'].unique()"
   ]
  },
  {
   "cell_type": "code",
   "execution_count": null,
   "metadata": {},
   "outputs": [
    {
     "name": "stdout",
     "output_type": "stream",
     "text": [
      "2268755\n"
     ]
    }
   ],
   "source": [
    "US_states = ['ALABAMA','ALASKA','ARIZONA','ARKANSAS','CAALIFORNIA','COLORADO','CONNECTICUT','DELAWARE','DISTRICT OF COLUMBIA','FLORIDA','GEORGIA','HAWII','IDAHO','ILLINOIS','INDIANA','IOWA','KANSAS','KENTUCKY','LOUISTANA','MAINE','MARIANA ISLANDS','MARYLAND','MASSACHUUSSETS','MICHIGAN','MINNESOTA','MISSISSIPPI','MISSOURI','MONTANA','NEBRASKA','NEVADA','NEW HAMPSHIRE','NEW JERSEY','NEW MEXICO','NEW YORK','NORTH CAROLINA','NORTH DAKOTA','OHIO','OKALHOMA','OREGON','PENNSYLVANIA','PUERTO RICO','RHODE ISLAND','SOUTH CAROLINA','SOUTH DAKOTA','TENNESEE','TEXAS','UTAH','VERMONT','VIRGINIA','WASHINGTON','WEST VIRGINIA','WISCONSIN','WYOMING']\n",
    "p_s = [0]*53\n",
    "for i in  range(0,53):\n",
    "    p_s[i]= f[f.STATES == US_states[i]]['STATES'].count()\n",
    "pe = pd.DataFrame()\n",
    "pe['STATES']= US_states\n",
    "pe['FIELD PETITIONS'] = p_s\n",
    "print(sum(p_s))"
   ]
  },
  {
   "cell_type": "code",
   "execution_count": null,
   "metadata": {},
   "outputs": [
    {
     "data": {
      "image/png": "[encoded data removed]",
      "text/plain": [
       "<Figure size 936x504 with 1 Axes>"
      ]
     },
     "metadata": {
      "needs_background": "light"
     },
     "output_type": "display_data"
    }
   ],
   "source": [
    "sns.set_context(\"notebook\",font_scale = 1.0)\n",
    "plt.figure(figsize=(13,7))\n",
    "plt.title(\"FIELD PETITION BY STATE\")\n",
    "g = sns.barplot(x ='STATES',y ='FIELD PETITIONS',data=pe)\n",
    "v = g.set_xticklabels(g.get_xticklabels(),rotation = 90)"
   ]
  },
  {
   "cell_type": "markdown",
   "metadata": {},
   "source": [
    "NO. OF PETITIONS DENIED BY STATE"
   ]
  },
  {
   "cell_type": "code",
   "execution_count": null,
   "metadata": {},
   "outputs": [
    {
     "data": {
      "text/html": [
       "<div>\n",
       "<style scoped>\n",
       "    .dataframe tbody tr th:only-of-type {\n",
       "        vertical-align: middle;\n",
       "    }\n",
       "\n",
       "    .dataframe tbody tr th {\n",
       "        vertical-align: top;\n",
       "    }\n",
       "\n",
       "    .dataframe thead th {\n",
       "        text-align: right;\n",
       "    }\n",
       "</style>\n",
       "<table border=\"1\" class=\"dataframe\">\n",
       "  <thead>\n",
       "    <tr style=\"text-align: right;\">\n",
       "      <th></th>\n",
       "      <th>STATES</th>\n",
       "      <th>DENIED PETITIONS</th>\n",
       "    </tr>\n",
       "  </thead>\n",
       "  <tbody>\n",
       "    <tr>\n",
       "      <th>0</th>\n",
       "      <td>ALABAMA</td>\n",
       "      <td>522</td>\n",
       "    </tr>\n",
       "    <tr>\n",
       "      <th>1</th>\n",
       "      <td>ALASKA</td>\n",
       "      <td>158</td>\n",
       "    </tr>\n",
       "    <tr>\n",
       "      <th>2</th>\n",
       "      <td>ARIZONA</td>\n",
       "      <td>1157</td>\n",
       "    </tr>\n",
       "    <tr>\n",
       "      <th>3</th>\n",
       "      <td>ARKANSAS</td>\n",
       "      <td>333</td>\n",
       "    </tr>\n",
       "    <tr>\n",
       "      <th>4</th>\n",
       "      <td>CAALIFORNIA</td>\n",
       "      <td>0</td>\n",
       "    </tr>\n",
       "    <tr>\n",
       "      <th>5</th>\n",
       "      <td>COLORADO</td>\n",
       "      <td>1143</td>\n",
       "    </tr>\n",
       "    <tr>\n",
       "      <th>6</th>\n",
       "      <td>CONNECTICUT</td>\n",
       "      <td>1236</td>\n",
       "    </tr>\n",
       "    <tr>\n",
       "      <th>7</th>\n",
       "      <td>DELAWARE</td>\n",
       "      <td>367</td>\n",
       "    </tr>\n",
       "    <tr>\n",
       "      <th>8</th>\n",
       "      <td>DISTRICT OF COLUMBIA</td>\n",
       "      <td>1182</td>\n",
       "    </tr>\n",
       "    <tr>\n",
       "      <th>9</th>\n",
       "      <td>FLORIDA</td>\n",
       "      <td>5577</td>\n",
       "    </tr>\n",
       "    <tr>\n",
       "      <th>10</th>\n",
       "      <td>GEORGIA</td>\n",
       "      <td>2756</td>\n",
       "    </tr>\n",
       "    <tr>\n",
       "      <th>11</th>\n",
       "      <td>HAWII</td>\n",
       "      <td>0</td>\n",
       "    </tr>\n",
       "    <tr>\n",
       "      <th>12</th>\n",
       "      <td>IDAHO</td>\n",
       "      <td>194</td>\n",
       "    </tr>\n",
       "    <tr>\n",
       "      <th>13</th>\n",
       "      <td>ILLINOIS</td>\n",
       "      <td>3945</td>\n",
       "    </tr>\n",
       "    <tr>\n",
       "      <th>14</th>\n",
       "      <td>INDIANA</td>\n",
       "      <td>832</td>\n",
       "    </tr>\n",
       "    <tr>\n",
       "      <th>15</th>\n",
       "      <td>IOWA</td>\n",
       "      <td>437</td>\n",
       "    </tr>\n",
       "    <tr>\n",
       "      <th>16</th>\n",
       "      <td>KANSAS</td>\n",
       "      <td>435</td>\n",
       "    </tr>\n",
       "    <tr>\n",
       "      <th>17</th>\n",
       "      <td>KENTUCKY</td>\n",
       "      <td>428</td>\n",
       "    </tr>\n",
       "    <tr>\n",
       "      <th>18</th>\n",
       "      <td>LOUISTANA</td>\n",
       "      <td>0</td>\n",
       "    </tr>\n",
       "    <tr>\n",
       "      <th>19</th>\n",
       "      <td>MAINE</td>\n",
       "      <td>136</td>\n",
       "    </tr>\n",
       "    <tr>\n",
       "      <th>20</th>\n",
       "      <td>MARIANA ISLANDS</td>\n",
       "      <td>0</td>\n",
       "    </tr>\n",
       "    <tr>\n",
       "      <th>21</th>\n",
       "      <td>MARYLAND</td>\n",
       "      <td>2105</td>\n",
       "    </tr>\n",
       "    <tr>\n",
       "      <th>22</th>\n",
       "      <td>MASSACHUUSSETS</td>\n",
       "      <td>0</td>\n",
       "    </tr>\n",
       "    <tr>\n",
       "      <th>23</th>\n",
       "      <td>MICHIGAN</td>\n",
       "      <td>2240</td>\n",
       "    </tr>\n",
       "    <tr>\n",
       "      <th>24</th>\n",
       "      <td>MINNESOTA</td>\n",
       "      <td>1125</td>\n",
       "    </tr>\n",
       "    <tr>\n",
       "      <th>25</th>\n",
       "      <td>MISSISSIPPI</td>\n",
       "      <td>278</td>\n",
       "    </tr>\n",
       "    <tr>\n",
       "      <th>26</th>\n",
       "      <td>MISSOURI</td>\n",
       "      <td>807</td>\n",
       "    </tr>\n",
       "    <tr>\n",
       "      <th>27</th>\n",
       "      <td>MONTANA</td>\n",
       "      <td>84</td>\n",
       "    </tr>\n",
       "    <tr>\n",
       "      <th>28</th>\n",
       "      <td>NEBRASKA</td>\n",
       "      <td>281</td>\n",
       "    </tr>\n",
       "    <tr>\n",
       "      <th>29</th>\n",
       "      <td>NEVADA</td>\n",
       "      <td>603</td>\n",
       "    </tr>\n",
       "    <tr>\n",
       "      <th>30</th>\n",
       "      <td>NEW HAMPSHIRE</td>\n",
       "      <td>225</td>\n",
       "    </tr>\n",
       "    <tr>\n",
       "      <th>31</th>\n",
       "      <td>NEW JERSEY</td>\n",
       "      <td>4913</td>\n",
       "    </tr>\n",
       "    <tr>\n",
       "      <th>32</th>\n",
       "      <td>NEW MEXICO</td>\n",
       "      <td>320</td>\n",
       "    </tr>\n",
       "    <tr>\n",
       "      <th>33</th>\n",
       "      <td>NEW YORK</td>\n",
       "      <td>12622</td>\n",
       "    </tr>\n",
       "    <tr>\n",
       "      <th>34</th>\n",
       "      <td>NORTH CAROLINA</td>\n",
       "      <td>1835</td>\n",
       "    </tr>\n",
       "    <tr>\n",
       "      <th>35</th>\n",
       "      <td>NORTH DAKOTA</td>\n",
       "      <td>145</td>\n",
       "    </tr>\n",
       "    <tr>\n",
       "      <th>36</th>\n",
       "      <td>OHIO</td>\n",
       "      <td>1870</td>\n",
       "    </tr>\n",
       "    <tr>\n",
       "      <th>37</th>\n",
       "      <td>OKALHOMA</td>\n",
       "      <td>0</td>\n",
       "    </tr>\n",
       "    <tr>\n",
       "      <th>38</th>\n",
       "      <td>OREGON</td>\n",
       "      <td>638</td>\n",
       "    </tr>\n",
       "    <tr>\n",
       "      <th>39</th>\n",
       "      <td>PENNSYLVANIA</td>\n",
       "      <td>2745</td>\n",
       "    </tr>\n",
       "    <tr>\n",
       "      <th>40</th>\n",
       "      <td>PUERTO RICO</td>\n",
       "      <td>223</td>\n",
       "    </tr>\n",
       "    <tr>\n",
       "      <th>41</th>\n",
       "      <td>RHODE ISLAND</td>\n",
       "      <td>278</td>\n",
       "    </tr>\n",
       "    <tr>\n",
       "      <th>42</th>\n",
       "      <td>SOUTH CAROLINA</td>\n",
       "      <td>544</td>\n",
       "    </tr>\n",
       "    <tr>\n",
       "      <th>43</th>\n",
       "      <td>SOUTH DAKOTA</td>\n",
       "      <td>89</td>\n",
       "    </tr>\n",
       "    <tr>\n",
       "      <th>44</th>\n",
       "      <td>TENNESEE</td>\n",
       "      <td>0</td>\n",
       "    </tr>\n",
       "    <tr>\n",
       "      <th>45</th>\n",
       "      <td>TEXAS</td>\n",
       "      <td>8592</td>\n",
       "    </tr>\n",
       "    <tr>\n",
       "      <th>46</th>\n",
       "      <td>UTAH</td>\n",
       "      <td>575</td>\n",
       "    </tr>\n",
       "    <tr>\n",
       "      <th>47</th>\n",
       "      <td>VERMONT</td>\n",
       "      <td>106</td>\n",
       "    </tr>\n",
       "    <tr>\n",
       "      <th>48</th>\n",
       "      <td>VIRGINIA</td>\n",
       "      <td>2854</td>\n",
       "    </tr>\n",
       "    <tr>\n",
       "      <th>49</th>\n",
       "      <td>WASHINGTON</td>\n",
       "      <td>2001</td>\n",
       "    </tr>\n",
       "    <tr>\n",
       "      <th>50</th>\n",
       "      <td>WEST VIRGINIA</td>\n",
       "      <td>153</td>\n",
       "    </tr>\n",
       "    <tr>\n",
       "      <th>51</th>\n",
       "      <td>WISCONSIN</td>\n",
       "      <td>723</td>\n",
       "    </tr>\n",
       "    <tr>\n",
       "      <th>52</th>\n",
       "      <td>WYOMING</td>\n",
       "      <td>99</td>\n",
       "    </tr>\n",
       "  </tbody>\n",
       "</table>\n",
       "</div>"
      ],
      "text/plain": [
       "                  STATES  DENIED PETITIONS\n",
       "0                ALABAMA               522\n",
       "1                 ALASKA               158\n",
       "2                ARIZONA              1157\n",
       "3               ARKANSAS               333\n",
       "4            CAALIFORNIA                 0\n",
       "5               COLORADO              1143\n",
       "6            CONNECTICUT              1236\n",
       "7               DELAWARE               367\n",
       "8   DISTRICT OF COLUMBIA              1182\n",
       "9                FLORIDA              5577\n",
       "10               GEORGIA              2756\n",
       "11                 HAWII                 0\n",
       "12                 IDAHO               194\n",
       "13              ILLINOIS              3945\n",
       "14               INDIANA               832\n",
       "15                  IOWA               437\n",
       "16                KANSAS               435\n",
       "17              KENTUCKY               428\n",
       "18             LOUISTANA                 0\n",
       "19                 MAINE               136\n",
       "20       MARIANA ISLANDS                 0\n",
       "21              MARYLAND              2105\n",
       "22        MASSACHUUSSETS                 0\n",
       "23              MICHIGAN              2240\n",
       "24             MINNESOTA              1125\n",
       "25           MISSISSIPPI               278\n",
       "26              MISSOURI               807\n",
       "27               MONTANA                84\n",
       "28              NEBRASKA               281\n",
       "29                NEVADA               603\n",
       "30         NEW HAMPSHIRE               225\n",
       "31            NEW JERSEY              4913\n",
       "32            NEW MEXICO               320\n",
       "33              NEW YORK             12622\n",
       "34        NORTH CAROLINA              1835\n",
       "35          NORTH DAKOTA               145\n",
       "36                  OHIO              1870\n",
       "37              OKALHOMA                 0\n",
       "38                OREGON               638\n",
       "39          PENNSYLVANIA              2745\n",
       "40           PUERTO RICO               223\n",
       "41          RHODE ISLAND               278\n",
       "42        SOUTH CAROLINA               544\n",
       "43          SOUTH DAKOTA                89\n",
       "44              TENNESEE                 0\n",
       "45                 TEXAS              8592\n",
       "46                  UTAH               575\n",
       "47               VERMONT               106\n",
       "48              VIRGINIA              2854\n",
       "49            WASHINGTON              2001\n",
       "50         WEST VIRGINIA               153\n",
       "51             WISCONSIN               723\n",
       "52               WYOMING                99"
      ]
     },
     "execution_count": 49,
     "metadata": {},
     "output_type": "execute_result"
    }
   ],
   "source": [
    "deni = [0]*53\n",
    "for i in range(0,53):\n",
    "    deni[i]= den[den.STATES==US_states[i]]['STATES'].count()\n",
    "de_s = pd.DataFrame()\n",
    "de_s['STATES'] = US_states\n",
    "de_s['DENIED PETITIONS'] = deni\n",
    "de_s"
   ]
  },
  {
   "cell_type": "code",
   "execution_count": null,
   "metadata": {},
   "outputs": [
    {
     "name": "stdout",
     "output_type": "stream",
     "text": [
      "69911\n"
     ]
    }
   ],
   "source": [
    "print(sum(deni))"
   ]
  },
  {
   "cell_type": "code",
   "execution_count": null,
   "metadata": {},
   "outputs": [
    {
     "data": {
      "image/png": "[encoded data removed]",
      "text/plain": [
       "<Figure size 936x216 with 1 Axes>"
      ]
     },
     "metadata": {
      "needs_background": "light"
     },
     "output_type": "display_data"
    }
   ],
   "source": [
    "sns.set_context(\"notebook\",font_scale = 1.0)\n",
    "plt.figure(figsize=(13,3))\n",
    "plt.title(\"DENIED PETITIONS BY STATE\")\n",
    "g = sns.barplot(x ='STATES',y ='DENIED PETITIONS',data=de_s)\n",
    "v = g.set_xticklabels(g.get_xticklabels(),rotation = 90)"
   ]
  }
 ],
 "metadata": {
  "kernelspec": {
   "display_name": "visa_env",
   "language": "python",
   "name": "python3"
  },
  "language_info": {
   "codemirror_mode": {
    "name": "ipython",
    "version": 3
   },
   "file_extension": ".py",
   "mimetype": "text/x-python",
   "name": "python",
   "nbconvert_exporter": "python",
   "pygments_lexer": "ipython3",
   "version": "3.13.3"
  }
 },
 "nbformat": 4,
 "nbformat_minor": 4
}
